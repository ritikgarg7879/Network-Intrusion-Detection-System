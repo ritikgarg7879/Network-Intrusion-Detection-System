{
 "cells": [
  {
   "cell_type": "code",
   "execution_count": 7,
   "id": "0726aa8a",
   "metadata": {},
   "outputs": [
    {
     "name": "stdout",
     "output_type": "stream",
     "text": [
      "SVM Accuracy: 0.9946666666666667\n",
      "Random Forest Accuracy: 0.9946666666666667\n",
      "KNN Accuracy: 0.9946666666666667\n",
      "Logistic Regression Accuracy: 0.9946666666666667\n",
      "Decision Tree Accuracy: 0.9883333333333333\n",
      "Naive Bayes Accuracy: 0.9946666666666667\n",
      "AdaBoost Accuracy: 0.9946666666666667\n",
      "Perceptron Accuracy: 0.9894\n"
     ]
    }
   ],
   "source": [
    "import pandas as pd\n",
    "from sklearn.model_selection import train_test_split\n",
    "from sklearn.preprocessing import LabelEncoder, StandardScaler\n",
    "from sklearn.metrics import accuracy_score\n",
    "from sklearn.svm import SVC\n",
    "from sklearn.ensemble import RandomForestClassifier, AdaBoostClassifier\n",
    "from sklearn.neighbors import KNeighborsClassifier\n",
    "from sklearn.linear_model import LogisticRegression, Perceptron\n",
    "from sklearn.tree import DecisionTreeClassifier\n",
    "from sklearn.naive_bayes import GaussianNB\n",
    "\n",
    "df = pd.read_csv('synthetic_network_traffic.csv')\n",
    "df = df.head(int(0.3 * len(df)))\n",
    "X = df[['SourceIP', 'DestinationIP', 'SourcePort', 'DestinationPort', 'Protocol', 'BytesSent', 'BytesReceived', 'PacketsSent', 'PacketsReceived', 'Duration']]\n",
    "y = df['IsAnomaly']\n",
    "\n",
    "le_protocol = LabelEncoder()\n",
    "df['Protocol'] = le_protocol.fit_transform(df['Protocol'])\n",
    "\n",
    "scaler = StandardScaler()\n",
    "X_scaled = scaler.fit_transform(X)\n",
    "\n",
    "X_train, X_test, y_train, y_test = train_test_split(X_scaled, y, test_size=0.2, random_state=42)\n",
    "\n",
    "models = {\n",
    "    'SVM': SVC(kernel='linear', random_state=42),\n",
    "    'Random Forest': RandomForestClassifier(n_estimators=100, random_state=42),\n",
    "    'KNN': KNeighborsClassifier(),\n",
    "    'Logistic Regression': LogisticRegression(random_state=42),\n",
    "    'Decision Tree': DecisionTreeClassifier(random_state=42),\n",
    "    'Naive Bayes': GaussianNB(),\n",
    "    'AdaBoost': AdaBoostClassifier(random_state=42),\n",
    "    'Perceptron': Perceptron(random_state=42)\n",
    "}\n",
    "\n",
    "for name, model in models.items():\n",
    "    model.fit(X_train, y_train)\n",
    "    y_pred = model.predict(X_test)\n",
    "    accuracy = accuracy_score(y_test, y_pred)\n",
    "    print(f\"{name} Accuracy: {accuracy}\")\n"
   ]
  }
 ],
 "metadata": {
  "kernelspec": {
   "display_name": "base",
   "language": "python",
   "name": "python3"
  },
  "language_info": {
   "codemirror_mode": {
    "name": "ipython",
    "version": 3
   },
   "file_extension": ".py",
   "mimetype": "text/x-python",
   "name": "python",
   "nbconvert_exporter": "python",
   "pygments_lexer": "ipython3",
   "version": "3.13.5"
  }
 },
 "nbformat": 4,
 "nbformat_minor": 5
}
