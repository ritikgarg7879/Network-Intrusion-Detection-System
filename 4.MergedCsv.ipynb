{
 "cells": [
  {
   "cell_type": "code",
   "execution_count": 1,
   "id": "229e2f0f",
   "metadata": {},
   "outputs": [
    {
     "name": "stdout",
     "output_type": "stream",
     "text": [
      "\n",
      "Random Forest Results\n",
      "Accuracy: 0.9950112840004751\n",
      "              precision    recall  f1-score   support\n",
      "\n",
      "           0       0.99      0.98      0.99      2986\n",
      "           1       1.00      1.00      1.00     13852\n",
      "\n",
      "    accuracy                           1.00     16838\n",
      "   macro avg       0.99      0.99      0.99     16838\n",
      "weighted avg       1.00      1.00      1.00     16838\n",
      "\n",
      "\n",
      "SVM Results\n",
      "Accuracy: 0.8812804371065447\n",
      "              precision    recall  f1-score   support\n",
      "\n",
      "           0       0.80      0.44      0.57      2986\n",
      "           1       0.89      0.98      0.93     13852\n",
      "\n",
      "    accuracy                           0.88     16838\n",
      "   macro avg       0.84      0.71      0.75     16838\n",
      "weighted avg       0.87      0.88      0.87     16838\n",
      "\n",
      "\n",
      "Gradient Boost Results\n",
      "Accuracy: 0.9861622520489369\n",
      "              precision    recall  f1-score   support\n",
      "\n",
      "           0       0.97      0.95      0.96      2986\n",
      "           1       0.99      0.99      0.99     13852\n",
      "\n",
      "    accuracy                           0.99     16838\n",
      "   macro avg       0.98      0.97      0.98     16838\n",
      "weighted avg       0.99      0.99      0.99     16838\n",
      "\n"
     ]
    },
    {
     "name": "stderr",
     "output_type": "stream",
     "text": [
      "C:\\Users\\hp\\AppData\\Roaming\\Python\\Python313\\site-packages\\xgboost\\training.py:183: UserWarning: [17:15:59] WARNING: C:\\actions-runner\\_work\\xgboost\\xgboost\\src\\learner.cc:738: \n",
      "Parameters: { \"use_label_encoder\" } are not used.\n",
      "\n",
      "  bst.update(dtrain, iteration=i, fobj=obj)\n"
     ]
    },
    {
     "name": "stdout",
     "output_type": "stream",
     "text": [
      "\n",
      "XGBoost Results\n",
      "Accuracy: 0.9991091578572276\n",
      "              precision    recall  f1-score   support\n",
      "\n",
      "           0       1.00      1.00      1.00      2986\n",
      "           1       1.00      1.00      1.00     13852\n",
      "\n",
      "    accuracy                           1.00     16838\n",
      "   macro avg       1.00      1.00      1.00     16838\n",
      "weighted avg       1.00      1.00      1.00     16838\n",
      "\n"
     ]
    },
    {
     "name": "stderr",
     "output_type": "stream",
     "text": [
      "c:\\ProgramData\\anaconda3\\Lib\\site-packages\\sklearn\\linear_model\\_logistic.py:465: ConvergenceWarning: lbfgs failed to converge (status=1):\n",
      "STOP: TOTAL NO. OF ITERATIONS REACHED LIMIT.\n",
      "\n",
      "Increase the number of iterations (max_iter) or scale the data as shown in:\n",
      "    https://scikit-learn.org/stable/modules/preprocessing.html\n",
      "Please also refer to the documentation for alternative solver options:\n",
      "    https://scikit-learn.org/stable/modules/linear_model.html#logistic-regression\n",
      "  n_iter_i = _check_optimize_result(\n"
     ]
    },
    {
     "name": "stdout",
     "output_type": "stream",
     "text": [
      "\n",
      "Logistic Regression Results\n",
      "Accuracy: 0.9061646276279843\n",
      "              precision    recall  f1-score   support\n",
      "\n",
      "           0       0.75      0.71      0.73      2986\n",
      "           1       0.94      0.95      0.94     13852\n",
      "\n",
      "    accuracy                           0.91     16838\n",
      "   macro avg       0.84      0.83      0.84     16838\n",
      "weighted avg       0.90      0.91      0.91     16838\n",
      "\n",
      "\n",
      "Perceptron Results\n",
      "Accuracy: 0.8131013184463713\n",
      "              precision    recall  f1-score   support\n",
      "\n",
      "           0       0.49      0.90      0.63      2986\n",
      "           1       0.97      0.80      0.87     13852\n",
      "\n",
      "    accuracy                           0.81     16838\n",
      "   macro avg       0.73      0.85      0.75     16838\n",
      "weighted avg       0.89      0.81      0.83     16838\n",
      "\n"
     ]
    }
   ],
   "source": [
    "import pandas as pd\n",
    "import numpy as np\n",
    "from sklearn.model_selection import train_test_split\n",
    "from sklearn.preprocessing import LabelEncoder\n",
    "from sklearn.ensemble import RandomForestClassifier, GradientBoostingClassifier\n",
    "from sklearn.linear_model import LogisticRegression, Perceptron\n",
    "from sklearn.svm import SVC\n",
    "from xgboost import XGBClassifier\n",
    "from sklearn.metrics import accuracy_score, classification_report\n",
    "\n",
    "df = pd.read_csv('Scenario-A-merged_5s.csv')\n",
    "df.columns = df.columns.str.strip()\n",
    "label_encoder = LabelEncoder()\n",
    "df['label'] = label_encoder.fit_transform(df['label'])\n",
    "df.drop(['Source IP', 'Destination IP'], axis=1, inplace=True)\n",
    "\n",
    "X = df.drop('label', axis=1)\n",
    "y = df['label']\n",
    "\n",
    "X.replace([np.inf, -np.inf], np.nan, inplace=True)\n",
    "X.dropna(inplace=True)\n",
    "y = y[X.index]\n",
    "\n",
    "X_train, X_test, y_train, y_test = train_test_split(X, y, test_size=0.2, random_state=42)\n",
    "\n",
    "models = {\n",
    "    \"Random Forest\": RandomForestClassifier(n_estimators=100, random_state=42),\n",
    "    \"SVM\": SVC(),\n",
    "    \"Gradient Boost\": GradientBoostingClassifier(),\n",
    "    \"XGBoost\": XGBClassifier(use_label_encoder=False, eval_metric='logloss'),\n",
    "    \"Logistic Regression\": LogisticRegression(max_iter=1000),\n",
    "    \"Perceptron\": Perceptron()\n",
    "}\n",
    "\n",
    "for name, model in models.items():\n",
    "    model.fit(X_train, y_train)\n",
    "    y_pred = model.predict(X_test)\n",
    "    print(f\"\\n{name} Results\")\n",
    "    \n",
    "    print(\"Accuracy:\", accuracy_score(y_test, y_pred))\n",
    "    print(classification_report(y_test, y_pred))\n"
   ]
  },
  {
   "cell_type": "code",
   "execution_count": 2,
   "id": "f40c11fc",
   "metadata": {},
   "outputs": [
    {
     "data": {
      "text/plain": [
       "['merged.pkl']"
      ]
     },
     "execution_count": 2,
     "metadata": {},
     "output_type": "execute_result"
    }
   ],
   "source": [
    "import joblib\n",
    "joblib.dump(model, 'merged.pkl')"
   ]
  }
 ],
 "metadata": {
  "kernelspec": {
   "display_name": "base",
   "language": "python",
   "name": "python3"
  },
  "language_info": {
   "codemirror_mode": {
    "name": "ipython",
    "version": 3
   },
   "file_extension": ".py",
   "mimetype": "text/x-python",
   "name": "python",
   "nbconvert_exporter": "python",
   "pygments_lexer": "ipython3",
   "version": "3.13.5"
  }
 },
 "nbformat": 4,
 "nbformat_minor": 5
}
